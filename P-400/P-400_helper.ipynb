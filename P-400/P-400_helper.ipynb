{
 "cells": [
  {
   "cell_type": "code",
   "execution_count": 1,
   "metadata": {},
   "outputs": [],
   "source": [
    "import pandas as pd\n",
    "import nltk\n",
    "import codecs\n",
    "#nltk.download('stopwords')\n",
    "#nltk.download('punkt')\n",
    "from nltk.corpus import stopwords\n",
    "from nltk.tokenize import word_tokenize\n",
    "from nltk.stem.snowball import SnowballStemmer\n",
    "from bengali_stemmer.rafikamal2014 import RafiStemmer"
   ]
  },
  {
   "cell_type": "code",
   "execution_count": 5,
   "metadata": {},
   "outputs": [],
   "source": [
    "stemmer = RafiStemmer()"
   ]
  },
  {
   "cell_type": "code",
   "execution_count": 9,
   "metadata": {},
   "outputs": [],
   "source": [
    "x = codecs.open('C:/Users/Burhan/Desktop/P-400/s_dataset.txt', encoding='utf-8')\n",
    "synonyms = x.read()\n",
    "synonyms = synonyms.split('\\n')\n",
    "\n",
    "string = \"\"\n",
    "for s in range(len(synonyms)):\n",
    "    temp = synonyms[s].split(',')\n",
    "    for t in range(len(temp)):\n",
    "        string += stemmer.stem_word(temp[t])\n",
    "        if t < len(temp)-1:\n",
    "            string += ','\n",
    "    if s < len(synonyms)-1:\n",
    "            string += '\\n'"
   ]
  },
  {
   "cell_type": "code",
   "execution_count": 11,
   "metadata": {},
   "outputs": [],
   "source": [
    "file = codecs.open(\"C:/Users/Burhan/Desktop/P-400/synonyms.txt\", \"w\", \"utf-8\")\n",
    "file.write(string)\n",
    "file.close()"
   ]
  }
 ],
 "metadata": {
  "kernelspec": {
   "display_name": "Python 3",
   "language": "python",
   "name": "python3"
  },
  "language_info": {
   "codemirror_mode": {
    "name": "ipython",
    "version": 3
   },
   "file_extension": ".py",
   "mimetype": "text/x-python",
   "name": "python",
   "nbconvert_exporter": "python",
   "pygments_lexer": "ipython3",
   "version": "3.6.5"
  }
 },
 "nbformat": 4,
 "nbformat_minor": 2
}
